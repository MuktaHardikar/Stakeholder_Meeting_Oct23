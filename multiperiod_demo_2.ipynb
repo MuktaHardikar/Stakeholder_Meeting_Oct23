{
 "cells": [
  {
   "cell_type": "markdown",
   "metadata": {},
   "source": [
    "# ADVANCED PSE+ STAKEHOLDER SUMMIT I 2023: \n",
    "# Interactive Code Demonstration Using WaterTAP\n",
    "\n",
    "### Today's demonstration will show \n",
    "- Part 1: how to build, initialize, simulate, and optimize a flowsheet for multiperiod analysis. The demonstration will demonstrate the use of a reverse osmosis (RO) unit model.\n",
    "- Part 2: :\n",
    "    - Public Github Repository: https://github.com/watertap-org/watertap\n",
    "    - Documentation: https://watertap.readthedocs.io/en/stable/\n",
    "    - Installer for User Interface: https://watertap-org.github.io/"
   ]
  },
  {
   "cell_type": "markdown",
   "metadata": {},
   "source": [
    "# Overall approach to multiperiod flowsheets\n",
    "<p align=\"center\">\n",
    "  <img src=\"assets/MP_Framework.png\" height=\"320\">\n",
    "</p>"
   ]
  },
  {
   "cell_type": "markdown",
   "metadata": {},
   "source": [
    "## Part 1: Build, setup, and simulate the multiperiod RO+PV+Battery flowsheet"
   ]
  },
  {
   "cell_type": "markdown",
   "metadata": {},
   "source": [
    "\n",
    "<p align=\"center\">\n",
    "  <img src=\"assets/RO_PV_Batt.svg\">\n",
    "</p>"
   ]
  },
  {
   "cell_type": "markdown",
   "metadata": {},
   "source": [
    "## Multiperiod Setup\n",
    "#### Import Pyomo, IDAES, and WaterTAP packages"
   ]
  },
  {
   "cell_type": "code",
   "execution_count": 1,
   "metadata": {},
   "outputs": [],
   "source": [
    "# Pyomo imports\n",
    "from pyomo.environ import ConcreteModel, Objective, Var, value, units as pyunits\n",
    "\n",
    "# IDAES imports\n",
    "from idaes.core import FlowsheetBlock\n",
    "\n",
    "from idaes.apps.grid_integration.multiperiod.multiperiod import MultiPeriodModel\n",
    "from idaes.core.solvers.get_solver import get_solver\n"
   ]
  },
  {
   "cell_type": "markdown",
   "metadata": {},
   "source": [
    "#### Build Model"
   ]
  },
  {
   "cell_type": "code",
   "execution_count": 2,
   "metadata": {},
   "outputs": [],
   "source": [
    "m = ConcreteModel()\n",
    "m.fs = FlowsheetBlock(dynamic=False)"
   ]
  },
  {
   "cell_type": "markdown",
   "metadata": {},
   "source": [
    "#### Import and define the Reverse Osmosis unit model"
   ]
  },
  {
   "cell_type": "code",
   "execution_count": 3,
   "metadata": {},
   "outputs": [],
   "source": [
    "from steady_state_flowsheets.simple_RO_unit import ROUnit\n",
    "m.fs.RO = ROUnit()"
   ]
  },
  {
   "cell_type": "markdown",
   "metadata": {},
   "source": [
    "#### Import and define the Battery model"
   ]
  },
  {
   "cell_type": "code",
   "execution_count": 4,
   "metadata": {},
   "outputs": [
    {
     "name": "stdout",
     "output_type": "stream",
     "text": [
      "2023-10-05 17:32:53 [INFO] idaes.init.fs.battery: Battery initialization status optimal - Optimal Solution Found.\n"
     ]
    }
   ],
   "source": [
    "from steady_state_flowsheets.battery import BatteryStorage\n",
    "m.fs.battery = BatteryStorage()\n",
    "m.fs.battery.initialize()\n"
   ]
  },
  {
   "cell_type": "markdown",
   "metadata": {},
   "source": [
    "#### Load PV surrogate"
   ]
  },
  {
   "cell_type": "code",
   "execution_count": 5,
   "metadata": {},
   "outputs": [
    {
     "name": "stdout",
     "output_type": "stream",
     "text": [
      "2023-10-05 17:32:53 [INFO] idaes.core.surrogate.pysmo_surrogate: Decode surrogate. type=rbf\n",
      "Default parameter estimation method is used.\n",
      "\n",
      "Parameter estimation method:  algebraic\n",
      "Gaussian basis function is used.\n",
      "Basis function:  gaussian\n",
      "Regularization done:  True\n"
     ]
    }
   ],
   "source": [
    "from idaes.core.surrogate.pysmo_surrogate import PysmoSurrogate\n",
    "PV_surrogate = PysmoSurrogate.load_from_file('assets/demo_surrogate.json')"
   ]
  },
  {
   "cell_type": "markdown",
   "metadata": {},
   "source": [
    "### Define critical variables and add energy balance constraints"
   ]
  },
  {
   "cell_type": "code",
   "execution_count": 6,
   "metadata": {},
   "outputs": [],
   "source": [
    "from steady_state_flowsheets.system import *\n",
    "define_system_vars(m)\n",
    "add_steady_state_constraints(m)"
   ]
  },
  {
   "cell_type": "markdown",
   "metadata": {},
   "source": [
    "#### Add Table Here"
   ]
  },
  {
   "cell_type": "code",
   "execution_count": 7,
   "metadata": {},
   "outputs": [],
   "source": [
    "solver = get_solver()\n",
    "results = solver.solve(m)"
   ]
  },
  {
   "cell_type": "code",
   "execution_count": 8,
   "metadata": {},
   "outputs": [
    {
     "name": "stdout",
     "output_type": "stream",
     "text": [
      "fs.pv_to_ro                              194.4      kW\n",
      "fs.grid_to_ro                            374.8      kW\n",
      "fs.curtailment                           402.4      kW\n",
      "fs.elec_price                            0.1        USD_2021\n",
      "fs.elec_generation                       1,000.0    kW\n",
      "fs.pv_gen                                1,000.0    kW\n",
      "fs.ro_elec_req                           1,000.0    kW\n",
      "fs.electricity_price                     0.1        USD_2021\n",
      "fs.battery.nameplate_power               150,189.1  kW\n",
      "fs.battery.nameplate_energy              278,058.9  kWh\n",
      "fs.battery.initial_state_of_charge       121,922.4  kWh\n",
      "fs.battery.initial_energy_throughput     99,811.5   kWh\n",
      "fs.battery.elec_in[0.0]                  403.2      kWh\n",
      "fs.battery.elec_out[0.0]                 375.0      kWh\n",
      "fs.battery.state_of_charge[0.0]          121,910.7  kWh\n",
      "fs.battery.energy_throughput[0.0]        100,200.6  kWh\n"
     ]
    }
   ],
   "source": [
    "for v in m.fs.component_data_objects(ctype=Var, active=True, descend_into=True):\n",
    "        print(f'{str(v):<40s}', f'{value(v):<10,.1f}', pyunits.get_units(v))"
   ]
  },
  {
   "cell_type": "markdown",
   "metadata": {},
   "source": [
    "### Create a Pyomo concrete model and steady-state flowsheet"
   ]
  },
  {
   "cell_type": "markdown",
   "metadata": {},
   "source": [
    "## Refresh - approach to multiperiod flowsheets\n",
    "<p align=\"center\">\n",
    "  <img src=\"assets/MP_Framework_2.png\" height=\"380\">\n",
    "</p>"
   ]
  },
  {
   "cell_type": "code",
   "execution_count": 9,
   "metadata": {},
   "outputs": [],
   "source": [
    "def get_pv_ro_variable_pairs(t1, t2):\n",
    "    \"\"\"\n",
    "    This function returns pairs of variables that need to be connected across two time periods\n",
    "\n",
    "    Args:\n",
    "        t1: current time block\n",
    "        t2: next time block\n",
    "\n",
    "    Returns:\n",
    "        None\n",
    "    \"\"\"\n",
    "    return [\n",
    "        (t1.fs.battery.state_of_charge[0], t2.fs.battery.initial_state_of_charge),\n",
    "        (t1.fs.battery.energy_throughput[0], t2.fs.battery.initial_energy_throughput),\n",
    "        (t1.fs.battery.nameplate_power, t2.fs.battery.nameplate_power),\n",
    "        (t1.fs.battery.nameplate_energy, t2.fs.battery.nameplate_energy),\n",
    "        ]"
   ]
  },
  {
   "cell_type": "markdown",
   "metadata": {},
   "source": [
    "#### Build the steady-state flowsheet as a function"
   ]
  },
  {
   "cell_type": "code",
   "execution_count": 10,
   "metadata": {},
   "outputs": [],
   "source": [
    "def build_pv_battery_flowsheet(\n",
    "        m = None,\n",
    "        pv_gen = 1000,\n",
    "        electricity_price = 0.1,\n",
    "        pv_oversize = 1):\n",
    "    \"\"\"\n",
    "\n",
    "    Returns:\n",
    "        object: A Pyomo concrete optimization model and flowsheet\n",
    "    \"\"\"\n",
    "    \n",
    "    build_system()\n",
    "\n",
    "    return m"
   ]
  },
  {
   "cell_type": "code",
   "execution_count": 11,
   "metadata": {},
   "outputs": [
    {
     "ename": "NameError",
     "evalue": "name 'build_system' is not defined",
     "output_type": "error",
     "traceback": [
      "\u001b[0;31m---------------------------------------------------------------------------\u001b[0m",
      "\u001b[0;31mNameError\u001b[0m                                 Traceback (most recent call last)",
      "\u001b[0;32m/var/folders/f6/ln_247ms54b5y1mdczhdrr59rtfn88/T/ipykernel_6263/2453313828.py\u001b[0m in \u001b[0;36m<cell line: 3>\u001b[0;34m()\u001b[0m\n\u001b[1;32m      1\u001b[0m \u001b[0mm\u001b[0m \u001b[0;34m=\u001b[0m \u001b[0mConcreteModel\u001b[0m\u001b[0;34m(\u001b[0m\u001b[0;34m)\u001b[0m\u001b[0;34m\u001b[0m\u001b[0;34m\u001b[0m\u001b[0m\n\u001b[1;32m      2\u001b[0m \u001b[0mm\u001b[0m\u001b[0;34m.\u001b[0m\u001b[0mfs\u001b[0m \u001b[0;34m=\u001b[0m \u001b[0mFlowsheetBlock\u001b[0m\u001b[0;34m(\u001b[0m\u001b[0mdynamic\u001b[0m\u001b[0;34m=\u001b[0m\u001b[0;32mFalse\u001b[0m\u001b[0;34m)\u001b[0m\u001b[0;34m\u001b[0m\u001b[0;34m\u001b[0m\u001b[0m\n\u001b[0;32m----> 3\u001b[0;31m \u001b[0mbuild_pv_battery_flowsheet\u001b[0m\u001b[0;34m(\u001b[0m\u001b[0mm\u001b[0m\u001b[0;34m)\u001b[0m\u001b[0;34m\u001b[0m\u001b[0;34m\u001b[0m\u001b[0m\n\u001b[0m",
      "\u001b[0;32m/var/folders/f6/ln_247ms54b5y1mdczhdrr59rtfn88/T/ipykernel_6263/1332565446.py\u001b[0m in \u001b[0;36mbuild_pv_battery_flowsheet\u001b[0;34m(m, pv_gen, electricity_price, pv_oversize)\u001b[0m\n\u001b[1;32m     10\u001b[0m     \"\"\"\n\u001b[1;32m     11\u001b[0m \u001b[0;34m\u001b[0m\u001b[0m\n\u001b[0;32m---> 12\u001b[0;31m     \u001b[0mbuild_system\u001b[0m\u001b[0;34m(\u001b[0m\u001b[0;34m)\u001b[0m\u001b[0;34m\u001b[0m\u001b[0;34m\u001b[0m\u001b[0m\n\u001b[0m\u001b[1;32m     13\u001b[0m \u001b[0;34m\u001b[0m\u001b[0m\n\u001b[1;32m     14\u001b[0m     \u001b[0;32mreturn\u001b[0m \u001b[0mm\u001b[0m\u001b[0;34m\u001b[0m\u001b[0;34m\u001b[0m\u001b[0m\n",
      "\u001b[0;31mNameError\u001b[0m: name 'build_system' is not defined"
     ]
    }
   ],
   "source": [
    "m = ConcreteModel()\n",
    "m.fs = FlowsheetBlock(dynamic=False)\n",
    "build_pv_battery_flowsheet(m)"
   ]
  },
  {
   "cell_type": "code",
   "execution_count": null,
   "metadata": {},
   "outputs": [
    {
     "ename": "ValueError",
     "evalue": "No variables appear in the Pyomo model constraints or objective. This is not supported by the NL file interface",
     "output_type": "error",
     "traceback": [
      "\u001b[0;31m---------------------------------------------------------------------------\u001b[0m",
      "\u001b[0;31mValueError\u001b[0m                                Traceback (most recent call last)",
      "\u001b[0;32m/var/folders/f6/ln_247ms54b5y1mdczhdrr59rtfn88/T/ipykernel_1871/2425839107.py\u001b[0m in \u001b[0;36m<cell line: 1>\u001b[0;34m()\u001b[0m\n\u001b[0;32m----> 1\u001b[0;31m \u001b[0mresults\u001b[0m \u001b[0;34m=\u001b[0m \u001b[0msolver\u001b[0m\u001b[0;34m.\u001b[0m\u001b[0msolve\u001b[0m\u001b[0;34m(\u001b[0m\u001b[0mm\u001b[0m\u001b[0;34m)\u001b[0m\u001b[0;34m\u001b[0m\u001b[0;34m\u001b[0m\u001b[0m\n\u001b[0m",
      "\u001b[0;32m/opt/anaconda3/envs/watertap-seto-dev-env/lib/python3.10/site-packages/pyomo/opt/base/solvers.py\u001b[0m in \u001b[0;36msolve\u001b[0;34m(self, *args, **kwds)\u001b[0m\n\u001b[1;32m    568\u001b[0m             \u001b[0minitial_time\u001b[0m \u001b[0;34m=\u001b[0m \u001b[0mtime\u001b[0m\u001b[0;34m.\u001b[0m\u001b[0mtime\u001b[0m\u001b[0;34m(\u001b[0m\u001b[0;34m)\u001b[0m\u001b[0;34m\u001b[0m\u001b[0;34m\u001b[0m\u001b[0m\n\u001b[1;32m    569\u001b[0m \u001b[0;34m\u001b[0m\u001b[0m\n\u001b[0;32m--> 570\u001b[0;31m             \u001b[0mself\u001b[0m\u001b[0;34m.\u001b[0m\u001b[0m_presolve\u001b[0m\u001b[0;34m(\u001b[0m\u001b[0;34m*\u001b[0m\u001b[0margs\u001b[0m\u001b[0;34m,\u001b[0m \u001b[0;34m**\u001b[0m\u001b[0mkwds\u001b[0m\u001b[0;34m)\u001b[0m\u001b[0;34m\u001b[0m\u001b[0;34m\u001b[0m\u001b[0m\n\u001b[0m\u001b[1;32m    571\u001b[0m \u001b[0;34m\u001b[0m\u001b[0m\n\u001b[1;32m    572\u001b[0m             \u001b[0mpresolve_completion_time\u001b[0m \u001b[0;34m=\u001b[0m \u001b[0mtime\u001b[0m\u001b[0;34m.\u001b[0m\u001b[0mtime\u001b[0m\u001b[0;34m(\u001b[0m\u001b[0;34m)\u001b[0m\u001b[0;34m\u001b[0m\u001b[0;34m\u001b[0m\u001b[0m\n",
      "\u001b[0;32m/opt/anaconda3/envs/watertap-seto-dev-env/lib/python3.10/site-packages/pyomo/opt/solver/shellcmd.py\u001b[0m in \u001b[0;36m_presolve\u001b[0;34m(self, *args, **kwds)\u001b[0m\n\u001b[1;32m    217\u001b[0m         \u001b[0mself\u001b[0m\u001b[0;34m.\u001b[0m\u001b[0m_define_signal_handlers\u001b[0m \u001b[0;34m=\u001b[0m \u001b[0mkwds\u001b[0m\u001b[0;34m.\u001b[0m\u001b[0mpop\u001b[0m\u001b[0;34m(\u001b[0m\u001b[0;34m'use_signal_handling'\u001b[0m\u001b[0;34m,\u001b[0m\u001b[0;32mNone\u001b[0m\u001b[0;34m)\u001b[0m\u001b[0;34m\u001b[0m\u001b[0;34m\u001b[0m\u001b[0m\n\u001b[1;32m    218\u001b[0m \u001b[0;34m\u001b[0m\u001b[0m\n\u001b[0;32m--> 219\u001b[0;31m         \u001b[0mOptSolver\u001b[0m\u001b[0;34m.\u001b[0m\u001b[0m_presolve\u001b[0m\u001b[0;34m(\u001b[0m\u001b[0mself\u001b[0m\u001b[0;34m,\u001b[0m \u001b[0;34m*\u001b[0m\u001b[0margs\u001b[0m\u001b[0;34m,\u001b[0m \u001b[0;34m**\u001b[0m\u001b[0mkwds\u001b[0m\u001b[0;34m)\u001b[0m\u001b[0;34m\u001b[0m\u001b[0;34m\u001b[0m\u001b[0m\n\u001b[0m\u001b[1;32m    220\u001b[0m \u001b[0;34m\u001b[0m\u001b[0m\n\u001b[1;32m    221\u001b[0m         \u001b[0;31m#\u001b[0m\u001b[0;34m\u001b[0m\u001b[0;34m\u001b[0m\u001b[0m\n",
      "\u001b[0;32m/opt/anaconda3/envs/watertap-seto-dev-env/lib/python3.10/site-packages/pyomo/opt/base/solvers.py\u001b[0m in \u001b[0;36m_presolve\u001b[0;34m(self, *args, **kwds)\u001b[0m\n\u001b[1;32m    665\u001b[0m             \u001b[0mwrite_start_time\u001b[0m \u001b[0;34m=\u001b[0m \u001b[0mtime\u001b[0m\u001b[0;34m.\u001b[0m\u001b[0mtime\u001b[0m\u001b[0;34m(\u001b[0m\u001b[0;34m)\u001b[0m\u001b[0;34m\u001b[0m\u001b[0;34m\u001b[0m\u001b[0m\n\u001b[1;32m    666\u001b[0m             \u001b[0;34m(\u001b[0m\u001b[0mself\u001b[0m\u001b[0;34m.\u001b[0m\u001b[0m_problem_files\u001b[0m\u001b[0;34m,\u001b[0m \u001b[0mself\u001b[0m\u001b[0;34m.\u001b[0m\u001b[0m_problem_format\u001b[0m\u001b[0;34m,\u001b[0m \u001b[0mself\u001b[0m\u001b[0;34m.\u001b[0m\u001b[0m_smap_id\u001b[0m\u001b[0;34m)\u001b[0m \u001b[0;34m=\u001b[0m\u001b[0;31m \u001b[0m\u001b[0;31m\\\u001b[0m\u001b[0;34m\u001b[0m\u001b[0;34m\u001b[0m\u001b[0m\n\u001b[0;32m--> 667\u001b[0;31m                 self._convert_problem(args,\n\u001b[0m\u001b[1;32m    668\u001b[0m                                       \u001b[0mself\u001b[0m\u001b[0;34m.\u001b[0m\u001b[0m_problem_format\u001b[0m\u001b[0;34m,\u001b[0m\u001b[0;34m\u001b[0m\u001b[0;34m\u001b[0m\u001b[0m\n\u001b[1;32m    669\u001b[0m                                       \u001b[0mself\u001b[0m\u001b[0;34m.\u001b[0m\u001b[0m_valid_problem_formats\u001b[0m\u001b[0;34m,\u001b[0m\u001b[0;34m\u001b[0m\u001b[0;34m\u001b[0m\u001b[0m\n",
      "\u001b[0;32m/opt/anaconda3/envs/watertap-seto-dev-env/lib/python3.10/site-packages/pyomo/opt/base/solvers.py\u001b[0m in \u001b[0;36m_convert_problem\u001b[0;34m(self, args, problem_format, valid_problem_formats, **kwds)\u001b[0m\n\u001b[1;32m    716\u001b[0m                          \u001b[0mvalid_problem_formats\u001b[0m\u001b[0;34m,\u001b[0m\u001b[0;34m\u001b[0m\u001b[0;34m\u001b[0m\u001b[0m\n\u001b[1;32m    717\u001b[0m                          **kwds):\n\u001b[0;32m--> 718\u001b[0;31m         return convert_problem(args,\n\u001b[0m\u001b[1;32m    719\u001b[0m                                \u001b[0mproblem_format\u001b[0m\u001b[0;34m,\u001b[0m\u001b[0;34m\u001b[0m\u001b[0;34m\u001b[0m\u001b[0m\n\u001b[1;32m    720\u001b[0m                                \u001b[0mvalid_problem_formats\u001b[0m\u001b[0;34m,\u001b[0m\u001b[0;34m\u001b[0m\u001b[0;34m\u001b[0m\u001b[0m\n",
      "\u001b[0;32m/opt/anaconda3/envs/watertap-seto-dev-env/lib/python3.10/site-packages/pyomo/opt/base/convert.py\u001b[0m in \u001b[0;36mconvert_problem\u001b[0;34m(args, target_problem_type, valid_problem_types, has_capability, **kwds)\u001b[0m\n\u001b[1;32m     99\u001b[0m                     \u001b[0mtmpkw\u001b[0m \u001b[0;34m=\u001b[0m \u001b[0mkwds\u001b[0m\u001b[0;34m\u001b[0m\u001b[0;34m\u001b[0m\u001b[0m\n\u001b[1;32m    100\u001b[0m                     \u001b[0mtmpkw\u001b[0m\u001b[0;34m[\u001b[0m\u001b[0;34m'capabilities'\u001b[0m\u001b[0;34m]\u001b[0m \u001b[0;34m=\u001b[0m \u001b[0mhas_capability\u001b[0m\u001b[0;34m\u001b[0m\u001b[0;34m\u001b[0m\u001b[0m\n\u001b[0;32m--> 101\u001b[0;31m                     \u001b[0mproblem_files\u001b[0m\u001b[0;34m,\u001b[0m \u001b[0msymbol_map\u001b[0m \u001b[0;34m=\u001b[0m \u001b[0mconverter\u001b[0m\u001b[0;34m.\u001b[0m\u001b[0mapply\u001b[0m\u001b[0;34m(\u001b[0m\u001b[0;34m*\u001b[0m\u001b[0mtmp\u001b[0m\u001b[0;34m,\u001b[0m \u001b[0;34m**\u001b[0m\u001b[0mtmpkw\u001b[0m\u001b[0;34m)\u001b[0m\u001b[0;34m\u001b[0m\u001b[0;34m\u001b[0m\u001b[0m\n\u001b[0m\u001b[1;32m    102\u001b[0m                     \u001b[0;32mreturn\u001b[0m \u001b[0mproblem_files\u001b[0m\u001b[0;34m,\u001b[0m \u001b[0mptype\u001b[0m\u001b[0;34m,\u001b[0m \u001b[0msymbol_map\u001b[0m\u001b[0;34m\u001b[0m\u001b[0;34m\u001b[0m\u001b[0m\n\u001b[1;32m    103\u001b[0m \u001b[0;34m\u001b[0m\u001b[0m\n",
      "\u001b[0;32m/opt/anaconda3/envs/watertap-seto-dev-env/lib/python3.10/site-packages/pyomo/solvers/plugins/converter/model.py\u001b[0m in \u001b[0;36mapply\u001b[0;34m(self, *args, **kwds)\u001b[0m\n\u001b[1;32m    185\u001b[0m                     )\n\u001b[1;32m    186\u001b[0m                 \u001b[0;32melse\u001b[0m\u001b[0;34m:\u001b[0m\u001b[0;34m\u001b[0m\u001b[0;34m\u001b[0m\u001b[0m\n\u001b[0;32m--> 187\u001b[0;31m                     (problem_filename, symbol_map_id) = instance.write(\n\u001b[0m\u001b[1;32m    188\u001b[0m                         \u001b[0mfilename\u001b[0m\u001b[0;34m=\u001b[0m\u001b[0mproblem_filename\u001b[0m\u001b[0;34m,\u001b[0m\u001b[0;34m\u001b[0m\u001b[0;34m\u001b[0m\u001b[0m\n\u001b[1;32m    189\u001b[0m                         \u001b[0mformat\u001b[0m\u001b[0;34m=\u001b[0m\u001b[0margs\u001b[0m\u001b[0;34m[\u001b[0m\u001b[0;36m1\u001b[0m\u001b[0;34m]\u001b[0m\u001b[0;34m,\u001b[0m\u001b[0;34m\u001b[0m\u001b[0;34m\u001b[0m\u001b[0m\n",
      "\u001b[0;32m/opt/anaconda3/envs/watertap-seto-dev-env/lib/python3.10/site-packages/pyomo/core/base/block.py\u001b[0m in \u001b[0;36mwrite\u001b[0;34m(self, filename, format, solver_capability, io_options)\u001b[0m\n\u001b[1;32m   2014\u001b[0m         \u001b[0;32mif\u001b[0m \u001b[0msolver_capability\u001b[0m \u001b[0;32mis\u001b[0m \u001b[0;32mNone\u001b[0m\u001b[0;34m:\u001b[0m\u001b[0;34m\u001b[0m\u001b[0;34m\u001b[0m\u001b[0m\n\u001b[1;32m   2015\u001b[0m             \u001b[0;32mdef\u001b[0m \u001b[0msolver_capability\u001b[0m\u001b[0;34m(\u001b[0m\u001b[0mx\u001b[0m\u001b[0;34m)\u001b[0m\u001b[0;34m:\u001b[0m \u001b[0;32mreturn\u001b[0m \u001b[0;32mTrue\u001b[0m\u001b[0;34m\u001b[0m\u001b[0;34m\u001b[0m\u001b[0m\n\u001b[0;32m-> 2016\u001b[0;31m         (filename, smap) = problem_writer(self,\n\u001b[0m\u001b[1;32m   2017\u001b[0m                                           \u001b[0mfilename\u001b[0m\u001b[0;34m,\u001b[0m\u001b[0;34m\u001b[0m\u001b[0;34m\u001b[0m\u001b[0m\n\u001b[1;32m   2018\u001b[0m                                           \u001b[0msolver_capability\u001b[0m\u001b[0;34m,\u001b[0m\u001b[0;34m\u001b[0m\u001b[0;34m\u001b[0m\u001b[0m\n",
      "\u001b[0;32m/opt/anaconda3/envs/watertap-seto-dev-env/lib/python3.10/site-packages/pyomo/repn/plugins/nl_writer.py\u001b[0m in \u001b[0;36m__call__\u001b[0;34m(self, model, filename, solver_capability, io_options)\u001b[0m\n\u001b[1;32m    337\u001b[0m             \u001b[0mrow_fname\u001b[0m\u001b[0;34m\u001b[0m\u001b[0;34m\u001b[0m\u001b[0m\n\u001b[1;32m    338\u001b[0m         ) as ROWFILE, _open(col_fname) as COLFILE:\n\u001b[0;32m--> 339\u001b[0;31m             \u001b[0minfo\u001b[0m \u001b[0;34m=\u001b[0m \u001b[0mself\u001b[0m\u001b[0;34m.\u001b[0m\u001b[0mwrite\u001b[0m\u001b[0;34m(\u001b[0m\u001b[0mmodel\u001b[0m\u001b[0;34m,\u001b[0m \u001b[0mFILE\u001b[0m\u001b[0;34m,\u001b[0m \u001b[0mROWFILE\u001b[0m\u001b[0;34m,\u001b[0m \u001b[0mCOLFILE\u001b[0m\u001b[0;34m,\u001b[0m \u001b[0mconfig\u001b[0m\u001b[0;34m=\u001b[0m\u001b[0mconfig\u001b[0m\u001b[0;34m)\u001b[0m\u001b[0;34m\u001b[0m\u001b[0;34m\u001b[0m\u001b[0m\n\u001b[0m\u001b[1;32m    340\u001b[0m         \u001b[0;31m# Historically, the NL writer communicated the external function\u001b[0m\u001b[0;34m\u001b[0m\u001b[0;34m\u001b[0m\u001b[0m\n\u001b[1;32m    341\u001b[0m         \u001b[0;31m# libraries back to the ASL interface through the PYOMO_AMPLFUNC\u001b[0m\u001b[0;34m\u001b[0m\u001b[0;34m\u001b[0m\u001b[0m\n",
      "\u001b[0;32m/opt/anaconda3/envs/watertap-seto-dev-env/lib/python3.10/site-packages/pyomo/repn/plugins/nl_writer.py\u001b[0m in \u001b[0;36mwrite\u001b[0;34m(self, model, ostream, rowstream, colstream, **options)\u001b[0m\n\u001b[1;32m    380\u001b[0m         \u001b[0;31m# small objects.\u001b[0m\u001b[0;34m\u001b[0m\u001b[0;34m\u001b[0m\u001b[0m\n\u001b[1;32m    381\u001b[0m         \u001b[0;32mwith\u001b[0m \u001b[0m_NLWriter_impl\u001b[0m\u001b[0;34m(\u001b[0m\u001b[0mostream\u001b[0m\u001b[0;34m,\u001b[0m \u001b[0mrowstream\u001b[0m\u001b[0;34m,\u001b[0m \u001b[0mcolstream\u001b[0m\u001b[0;34m,\u001b[0m \u001b[0mconfig\u001b[0m\u001b[0;34m)\u001b[0m \u001b[0;32mas\u001b[0m \u001b[0mimpl\u001b[0m\u001b[0;34m:\u001b[0m\u001b[0;34m\u001b[0m\u001b[0;34m\u001b[0m\u001b[0m\n\u001b[0;32m--> 382\u001b[0;31m             \u001b[0;32mreturn\u001b[0m \u001b[0mimpl\u001b[0m\u001b[0;34m.\u001b[0m\u001b[0mwrite\u001b[0m\u001b[0;34m(\u001b[0m\u001b[0mmodel\u001b[0m\u001b[0;34m)\u001b[0m\u001b[0;34m\u001b[0m\u001b[0;34m\u001b[0m\u001b[0m\n\u001b[0m\u001b[1;32m    383\u001b[0m \u001b[0;34m\u001b[0m\u001b[0m\n\u001b[1;32m    384\u001b[0m     \u001b[0mwrite\u001b[0m\u001b[0;34m.\u001b[0m\u001b[0m__doc__\u001b[0m \u001b[0;34m=\u001b[0m \u001b[0madd_docstring_list\u001b[0m\u001b[0;34m(\u001b[0m\u001b[0mwrite\u001b[0m\u001b[0;34m.\u001b[0m\u001b[0m__doc__\u001b[0m\u001b[0;34m,\u001b[0m \u001b[0mCONFIG\u001b[0m\u001b[0;34m)\u001b[0m\u001b[0;34m\u001b[0m\u001b[0;34m\u001b[0m\u001b[0m\n",
      "\u001b[0;32m/opt/anaconda3/envs/watertap-seto-dev-env/lib/python3.10/site-packages/pyomo/repn/plugins/nl_writer.py\u001b[0m in \u001b[0;36mwrite\u001b[0;34m(self, model)\u001b[0m\n\u001b[1;32m    836\u001b[0m             \u001b[0;31m# TODO: Remove this.  This exception is included for\u001b[0m\u001b[0;34m\u001b[0m\u001b[0;34m\u001b[0m\u001b[0m\n\u001b[1;32m    837\u001b[0m             \u001b[0;31m# compatibility with the original NL writer v1.\u001b[0m\u001b[0;34m\u001b[0m\u001b[0;34m\u001b[0m\u001b[0m\n\u001b[0;32m--> 838\u001b[0;31m             raise ValueError(\n\u001b[0m\u001b[1;32m    839\u001b[0m                 \u001b[0;34m\"No variables appear in the Pyomo model constraints or\"\u001b[0m\u001b[0;34m\u001b[0m\u001b[0;34m\u001b[0m\u001b[0m\n\u001b[1;32m    840\u001b[0m                 \u001b[0;34m\" objective. This is not supported by the NL file interface\"\u001b[0m\u001b[0;34m\u001b[0m\u001b[0;34m\u001b[0m\u001b[0m\n",
      "\u001b[0;31mValueError\u001b[0m: No variables appear in the Pyomo model constraints or objective. This is not supported by the NL file interface"
     ]
    }
   ],
   "source": [
    "results = solver.solve(m)"
   ]
  },
  {
   "cell_type": "code",
   "execution_count": null,
   "metadata": {},
   "outputs": [
    {
     "name": "stdout",
     "output_type": "stream",
     "text": [
      "fs.pv_to_ro                              194.4      kW\n",
      "fs.grid_to_ro                            374.8      kW\n",
      "fs.curtailment                           402.4      kW\n",
      "fs.elec_price                            0.1        USD_2021\n",
      "fs.elec_generation                       1,000.0    kW\n",
      "fs.pv_gen                                1,000.0    kW\n",
      "fs.ro_elec_req                           1,000.0    kW\n",
      "fs.electricity_price                     0.1        USD_2021\n",
      "fs.battery.nameplate_power               149,705.9  kW\n",
      "fs.battery.nameplate_energy              279,467.3  kWh\n",
      "fs.battery.initial_state_of_charge       118,932.0  kWh\n",
      "fs.battery.initial_energy_throughput     99,694.1   kWh\n",
      "fs.battery.elec_in[0.0]                  403.2      kWh\n",
      "fs.battery.elec_out[0.0]                 375.0      kWh\n",
      "fs.battery.state_of_charge[0.0]          118,920.3  kWh\n",
      "fs.battery.energy_throughput[0.0]        100,083.2  kWh\n"
     ]
    }
   ],
   "source": [
    "for v in m.fs.component_data_objects(ctype=Var, active=True, descend_into=True):\n",
    "        print(f'{str(v):<40s}', f'{value(v):<10,.1f}', pyunits.get_units(v))"
   ]
  },
  {
   "cell_type": "markdown",
   "metadata": {},
   "source": [
    "#### Define the flowsheet options"
   ]
  },
  {
   "cell_type": "code",
   "execution_count": null,
   "metadata": {},
   "outputs": [],
   "source": [
    "def load_flowsheet_options(mp,\n",
    "        n_time_points= 24,\n",
    "        ro_capacity = 6000, # m3/day\n",
    "        ro_elec_req = 1000, # kW\n",
    "        pv_oversize = 1,\n",
    "        surrogate = None):\n",
    "    \n",
    "    flowsheet_options={ t: { \n",
    "                            \"pv_gen\": 1000,\n",
    "                            \"electricity_price\": 0.1,\n",
    "                            \"ro_capacity\": ro_capacity, \n",
    "                            \"ro_elec_req\": ro_elec_req,\n",
    "                            \"pv_oversize\": pv_oversize} \n",
    "                            for t in range(n_time_points)\n",
    "    }\n",
    "\n",
    "    # create the multiperiod object\n",
    "    mp.build_multi_period_model(\n",
    "        model_data_kwargs=flowsheet_options,\n",
    "        flowsheet_options={ \"ro_capacity\": ro_capacity, \n",
    "                            \"ro_elec_req\": ro_elec_req},)"
   ]
  },
  {
   "cell_type": "code",
   "execution_count": null,
   "metadata": {},
   "outputs": [],
   "source": [
    "def create_multiperiod_pv_battery_model(\n",
    "        n_time_points= 24,        \n",
    "    ):\n",
    "    \n",
    "    mp = MultiPeriodModel(\n",
    "        n_time_points=n_time_points,\n",
    "        process_model_func=load_flowsheet_options,\n",
    "        linking_variable_func=get_pv_ro_variable_pairs,\n",
    "        initialization_func=fix_dof_and_initialize,\n",
    "        unfix_dof_func=unfix_dof,\n",
    "    )\n",
    "\n",
    "    # surrogate = load_surrogate()\n",
    "    load_flowsheet_options(mp)\n",
    "    mp.blocks[0].process.fs.battery.initial_state_of_charge.fix(0)\n",
    "    add_pv_ro_constraints(mp)\n",
    "    \n",
    "    return mp"
   ]
  },
  {
   "cell_type": "code",
   "execution_count": null,
   "metadata": {},
   "outputs": [
    {
     "name": "stdout",
     "output_type": "stream",
     "text": [
      "[+   0.00] Beginning the formulation of the multiperiod optimization problem.\n",
      "2023-10-05 17:04:26 [INFO] idaes.apps.grid_integration.multiperiod.multiperiod: ...Constructing the flowsheet model for blocks[0]\n"
     ]
    },
    {
     "ename": "TypeError",
     "evalue": "load_flowsheet_options() got an unexpected keyword argument 'pv_gen'",
     "output_type": "error",
     "traceback": [
      "\u001b[0;31m---------------------------------------------------------------------------\u001b[0m",
      "\u001b[0;31mTypeError\u001b[0m                                 Traceback (most recent call last)",
      "\u001b[0;32m/var/folders/f6/ln_247ms54b5y1mdczhdrr59rtfn88/T/ipykernel_1329/3786308875.py\u001b[0m in \u001b[0;36m<cell line: 1>\u001b[0;34m()\u001b[0m\n\u001b[0;32m----> 1\u001b[0;31m \u001b[0mmp\u001b[0m \u001b[0;34m=\u001b[0m \u001b[0mcreate_multiperiod_pv_battery_model\u001b[0m\u001b[0;34m(\u001b[0m\u001b[0;34m)\u001b[0m\u001b[0;34m\u001b[0m\u001b[0;34m\u001b[0m\u001b[0m\n\u001b[0m\u001b[1;32m      2\u001b[0m \u001b[0mresults\u001b[0m \u001b[0;34m=\u001b[0m \u001b[0msolver\u001b[0m\u001b[0;34m.\u001b[0m\u001b[0msolve\u001b[0m\u001b[0;34m(\u001b[0m\u001b[0mmp\u001b[0m\u001b[0;34m)\u001b[0m\u001b[0;34m\u001b[0m\u001b[0;34m\u001b[0m\u001b[0m\n",
      "\u001b[0;32m/var/folders/f6/ln_247ms54b5y1mdczhdrr59rtfn88/T/ipykernel_1329/773231657.py\u001b[0m in \u001b[0;36mcreate_multiperiod_pv_battery_model\u001b[0;34m(n_time_points)\u001b[0m\n\u001b[1;32m     12\u001b[0m \u001b[0;34m\u001b[0m\u001b[0m\n\u001b[1;32m     13\u001b[0m     \u001b[0;31m# surrogate = load_surrogate()\u001b[0m\u001b[0;34m\u001b[0m\u001b[0;34m\u001b[0m\u001b[0m\n\u001b[0;32m---> 14\u001b[0;31m     \u001b[0mload_flowsheet_options\u001b[0m\u001b[0;34m(\u001b[0m\u001b[0mmp\u001b[0m\u001b[0;34m)\u001b[0m\u001b[0;34m\u001b[0m\u001b[0;34m\u001b[0m\u001b[0m\n\u001b[0m\u001b[1;32m     15\u001b[0m     \u001b[0mmp\u001b[0m\u001b[0;34m.\u001b[0m\u001b[0mblocks\u001b[0m\u001b[0;34m[\u001b[0m\u001b[0;36m0\u001b[0m\u001b[0;34m]\u001b[0m\u001b[0;34m.\u001b[0m\u001b[0mprocess\u001b[0m\u001b[0;34m.\u001b[0m\u001b[0mfs\u001b[0m\u001b[0;34m.\u001b[0m\u001b[0mbattery\u001b[0m\u001b[0;34m.\u001b[0m\u001b[0minitial_state_of_charge\u001b[0m\u001b[0;34m.\u001b[0m\u001b[0mfix\u001b[0m\u001b[0;34m(\u001b[0m\u001b[0;36m0\u001b[0m\u001b[0;34m)\u001b[0m\u001b[0;34m\u001b[0m\u001b[0;34m\u001b[0m\u001b[0m\n\u001b[1;32m     16\u001b[0m     \u001b[0madd_pv_ro_constraints\u001b[0m\u001b[0;34m(\u001b[0m\u001b[0mmp\u001b[0m\u001b[0;34m)\u001b[0m\u001b[0;34m\u001b[0m\u001b[0;34m\u001b[0m\u001b[0m\n",
      "\u001b[0;32m/var/folders/f6/ln_247ms54b5y1mdczhdrr59rtfn88/T/ipykernel_1329/3803206799.py\u001b[0m in \u001b[0;36mload_flowsheet_options\u001b[0;34m(mp, n_time_points, ro_capacity, ro_elec_req, pv_oversize, surrogate)\u001b[0m\n\u001b[1;32m     16\u001b[0m \u001b[0;34m\u001b[0m\u001b[0m\n\u001b[1;32m     17\u001b[0m     \u001b[0;31m# create the multiperiod object\u001b[0m\u001b[0;34m\u001b[0m\u001b[0;34m\u001b[0m\u001b[0m\n\u001b[0;32m---> 18\u001b[0;31m     mp.build_multi_period_model(\n\u001b[0m\u001b[1;32m     19\u001b[0m         \u001b[0mmodel_data_kwargs\u001b[0m\u001b[0;34m=\u001b[0m\u001b[0mflowsheet_options\u001b[0m\u001b[0;34m,\u001b[0m\u001b[0;34m\u001b[0m\u001b[0;34m\u001b[0m\u001b[0m\n\u001b[1;32m     20\u001b[0m         flowsheet_options={ \"ro_capacity\": ro_capacity, \n",
      "\u001b[0;32m/opt/anaconda3/envs/watertap-seto-dev-env/lib/python3.10/site-packages/idaes/apps/grid_integration/multiperiod/multiperiod.py\u001b[0m in \u001b[0;36mbuild_multi_period_model\u001b[0;34m(self, model_data_kwargs, flowsheet_options, initialization_options, unfix_dof_options, solver)\u001b[0m\n\u001b[1;32m    164\u001b[0m         \u001b[0;32mfor\u001b[0m \u001b[0mt\u001b[0m \u001b[0;32min\u001b[0m \u001b[0mm\u001b[0m\u001b[0;34m.\u001b[0m\u001b[0mTIME\u001b[0m\u001b[0;34m:\u001b[0m\u001b[0;34m\u001b[0m\u001b[0;34m\u001b[0m\u001b[0m\n\u001b[1;32m    165\u001b[0m             \u001b[0m_logger\u001b[0m\u001b[0;34m.\u001b[0m\u001b[0minfo\u001b[0m\u001b[0;34m(\u001b[0m\u001b[0;34mf\"...Constructing the flowsheet model for {m.blocks[t].name}\"\u001b[0m\u001b[0;34m)\u001b[0m\u001b[0;34m\u001b[0m\u001b[0;34m\u001b[0m\u001b[0m\n\u001b[0;32m--> 166\u001b[0;31m             \u001b[0mm\u001b[0m\u001b[0;34m.\u001b[0m\u001b[0mblocks\u001b[0m\u001b[0;34m[\u001b[0m\u001b[0mt\u001b[0m\u001b[0;34m]\u001b[0m\u001b[0;34m.\u001b[0m\u001b[0mprocess\u001b[0m \u001b[0;34m=\u001b[0m \u001b[0mself\u001b[0m\u001b[0;34m.\u001b[0m\u001b[0mcreate_process_model\u001b[0m\u001b[0;34m(\u001b[0m\u001b[0;34m**\u001b[0m\u001b[0mmodel_data_kwargs\u001b[0m\u001b[0;34m[\u001b[0m\u001b[0mt\u001b[0m\u001b[0;34m]\u001b[0m\u001b[0;34m)\u001b[0m\u001b[0;34m\u001b[0m\u001b[0;34m\u001b[0m\u001b[0m\n\u001b[0m\u001b[1;32m    167\u001b[0m \u001b[0;34m\u001b[0m\u001b[0m\n\u001b[1;32m    168\u001b[0m         \u001b[0mtimer\u001b[0m\u001b[0;34m.\u001b[0m\u001b[0mtoc\u001b[0m\u001b[0;34m(\u001b[0m\u001b[0;34m\"Completed the formulation of the multiperiod optimization problem.\"\u001b[0m\u001b[0;34m)\u001b[0m\u001b[0;34m\u001b[0m\u001b[0;34m\u001b[0m\u001b[0m\n",
      "\u001b[0;31mTypeError\u001b[0m: load_flowsheet_options() got an unexpected keyword argument 'pv_gen'"
     ]
    }
   ],
   "source": [
    "mp = create_multiperiod_pv_battery_model()\n",
    "results = solver.solve(mp)"
   ]
  },
  {
   "cell_type": "code",
   "execution_count": null,
   "metadata": {},
   "outputs": [
    {
     "name": "stdout",
     "output_type": "stream",
     "text": [
      "pv_size              1,000.00  \n",
      "battery_power        27.60     \n",
      "battery_energy       40.43     \n",
      "LCOW                 0.41      \n"
     ]
    }
   ],
   "source": [
    "labels = ['pv_size', 'battery_power', 'battery_energy', 'LCOW']\n",
    "for idx, v in enumerate([mp.blocks[0].process.fs.pv_size, mp.blocks[0].process.fs.battery.nameplate_power, mp.blocks[0].process.fs.battery.nameplate_energy, mp.LCOW]):\n",
    "    print(f'{labels[idx]:<20s}', f'{value(v):<10,.2f}')"
   ]
  },
  {
   "cell_type": "code",
   "execution_count": null,
   "metadata": {},
   "outputs": [
    {
     "ename": "NameError",
     "evalue": "name 'elec_prices' is not defined",
     "output_type": "error",
     "traceback": [
      "\u001b[0;31m---------------------------------------------------------------------------\u001b[0m",
      "\u001b[0;31mNameError\u001b[0m                                 Traceback (most recent call last)",
      "\u001b[0;32m/var/folders/f6/ln_247ms54b5y1mdczhdrr59rtfn88/T/ipykernel_42034/2892539084.py\u001b[0m in \u001b[0;36m<cell line: 2>\u001b[0;34m()\u001b[0m\n\u001b[1;32m      1\u001b[0m \u001b[0;32mfrom\u001b[0m \u001b[0mutil\u001b[0m\u001b[0;34m.\u001b[0m\u001b[0mvisualize\u001b[0m \u001b[0;32mimport\u001b[0m \u001b[0mcreate_plot\u001b[0m\u001b[0;34m\u001b[0m\u001b[0;34m\u001b[0m\u001b[0m\n\u001b[0;32m----> 2\u001b[0;31m \u001b[0mcreate_plot\u001b[0m\u001b[0;34m(\u001b[0m\u001b[0mmp\u001b[0m\u001b[0;34m,\u001b[0m \u001b[0melec_prices\u001b[0m\u001b[0;34m)\u001b[0m\u001b[0;34m\u001b[0m\u001b[0;34m\u001b[0m\u001b[0m\n\u001b[0m",
      "\u001b[0;31mNameError\u001b[0m: name 'elec_prices' is not defined"
     ]
    }
   ],
   "source": [
    "from util.visualize import create_plot\n",
    "create_plot(mp, elec_prices)"
   ]
  }
 ],
 "metadata": {
  "kernelspec": {
   "display_name": "watertap-dev",
   "language": "python",
   "name": "python3"
  },
  "language_info": {
   "codemirror_mode": {
    "name": "ipython",
    "version": 3
   },
   "file_extension": ".py",
   "mimetype": "text/x-python",
   "name": "python",
   "nbconvert_exporter": "python",
   "pygments_lexer": "ipython3",
   "version": "3.10.4"
  },
  "orig_nbformat": 4
 },
 "nbformat": 4,
 "nbformat_minor": 2
}
