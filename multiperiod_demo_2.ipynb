{
 "cells": [
  {
   "cell_type": "markdown",
   "metadata": {},
   "source": [
    "# ADVANCED PSE+ STAKEHOLDER SUMMIT I 2023: \n",
    "# Interactive Code Demonstration Using WaterTAP\n",
    "\n",
    "### Today's demonstration will show \n",
    "- Part 1: how to build, initialize, simulate, and optimize a flowsheet for multiperiod analysis. The demonstration will demonstrate the use of a reverse osmosis (RO) unit model.\n",
    "- Part 2: :\n",
    "    - Public Github Repository: https://github.com/watertap-org/watertap\n",
    "    - Documentation: https://watertap.readthedocs.io/en/stable/\n",
    "    - Installer for User Interface: https://watertap-org.github.io/"
   ]
  },
  {
   "cell_type": "markdown",
   "metadata": {},
   "source": [
    "# Overall approach to multiperiod flowsheets\n",
    "<p align=\"center\">\n",
    "  <img src=\"assets/MP_Framework.png\" height=\"320\">\n",
    "</p>"
   ]
  },
  {
   "cell_type": "markdown",
   "metadata": {},
   "source": [
    "## Part 1: Build, setup, and simulate the multiperiod RO+PV+Battery flowsheet"
   ]
  },
  {
   "cell_type": "markdown",
   "metadata": {},
   "source": [
    "\n",
    "<p align=\"center\">\n",
    "  <img src=\"assets/RO_PV_Batt.svg\">\n",
    "</p>"
   ]
  },
  {
   "cell_type": "markdown",
   "metadata": {},
   "source": [
    "## Multiperiod Setup\n",
    "\n",
    "### Quick and high-level overview of setting up steady-state and surrogate parts\n",
    "#### Import Pyomo, IDAES, and WaterTAP packages"
   ]
  },
  {
   "cell_type": "code",
   "execution_count": 1,
   "metadata": {},
   "outputs": [],
   "source": [
    "# Pyomo imports\n",
    "from pyomo.environ import ConcreteModel, Objective, Var, value, units as pyunits\n",
    "\n",
    "# IDAES imports\n",
    "from idaes.core import FlowsheetBlock\n",
    "\n",
    "from idaes.apps.grid_integration.multiperiod.multiperiod import MultiPeriodModel\n",
    "from idaes.core.solvers.get_solver import get_solver\n"
   ]
  },
  {
   "cell_type": "markdown",
   "metadata": {},
   "source": [
    "#### Build Model"
   ]
  },
  {
   "cell_type": "code",
   "execution_count": 2,
   "metadata": {},
   "outputs": [],
   "source": [
    "m = ConcreteModel()\n",
    "m.fs = FlowsheetBlock(dynamic=False)"
   ]
  },
  {
   "cell_type": "markdown",
   "metadata": {},
   "source": [
    "#### Import and define the Reverse Osmosis unit model"
   ]
  },
  {
   "cell_type": "code",
   "execution_count": 3,
   "metadata": {},
   "outputs": [],
   "source": [
    "from steady_state_flowsheets.simple_RO_unit import ROUnit\n",
    "m.fs.RO = ROUnit()"
   ]
  },
  {
   "cell_type": "markdown",
   "metadata": {},
   "source": [
    "#### This simple RO unit will assume a steady-state system with constant production and power demand\n",
    "        ROUnit.product = 6000 # m3/day\n",
    "        ROUnit.power_demand = 944.3 # kW"
   ]
  },
  {
   "cell_type": "markdown",
   "metadata": {},
   "source": [
    "#### Import and define the Battery model"
   ]
  },
  {
   "cell_type": "code",
   "execution_count": 4,
   "metadata": {},
   "outputs": [],
   "source": [
    "from steady_state_flowsheets.battery import BatteryStorage\n",
    "m.fs.battery = BatteryStorage()\n"
   ]
  },
  {
   "cell_type": "markdown",
   "metadata": {},
   "source": [
    "#### The battery model will have some of the following attributes\n",
    "| Var                       | Descr                                     | Unit |\n",
    "| :----:                    | :----:                                    |:----:|\n",
    "| nameplate_power           | Nameplate power of battery energy storage | kWh  |\n",
    "| nameplate_energy          | Nameplate energy of battery energy storage| kWh  |\n",
    "| initial_state_of_charge   | State of charge at t - 1                  | kWh  |\n",
    "| elec_in                   | Energy in                                 | kWh  |\n",
    "| elec_out                  | Energy out                                | kWh  |\n",
    "| state_of_charge           | State of charge at t                      | kWh  |"
   ]
  },
  {
   "cell_type": "markdown",
   "metadata": {},
   "source": [
    "#### Load PV surrogate\n",
    "<p align=\"center\">\n",
    "  <img src=\"assets/solar_cycle.png\" width=\"380\">\n",
    "</p>\n",
    "\n",
    "##### The PV surrogate will predict the energy production of a given PV system based on:\n",
    "* PV system design size [kW] (peak power )\n",
    "* Day of the year\n",
    "* Hour of the Day"
   ]
  },
  {
   "cell_type": "code",
   "execution_count": 5,
   "metadata": {},
   "outputs": [
    {
     "name": "stdout",
     "output_type": "stream",
     "text": [
      "2023-10-06 14:35:42 [INFO] idaes.core.surrogate.pysmo_surrogate: Decode surrogate. type=rbf\n",
      "Default parameter estimation method is used.\n",
      "\n",
      "Parameter estimation method:  algebraic\n",
      "Gaussian basis function is used.\n",
      "Basis function:  gaussian\n",
      "Regularization done:  True\n"
     ]
    }
   ],
   "source": [
    "from idaes.core.surrogate.pysmo_surrogate import PysmoSurrogate\n",
    "PV_surrogate = PysmoSurrogate.load_from_file('assets/demo_surrogate.json')"
   ]
  },
  {
   "cell_type": "markdown",
   "metadata": {},
   "source": [
    "### Define critical variables and add energy balance constraints"
   ]
  },
  {
   "cell_type": "code",
   "execution_count": 6,
   "metadata": {},
   "outputs": [],
   "source": [
    "from steady_state_flowsheets.system import *\n",
    "define_system_vars(m)\n",
    "add_steady_state_constraints(m)"
   ]
  },
  {
   "cell_type": "markdown",
   "metadata": {},
   "source": [
    "#### System-level variables include:\n",
    "| Var                       | Descr                                     | Unit |\n",
    "| :----:                    | :----:                                    |:----:|\n",
    "| pv_to_ro           | Energy supplied to the RO coming from PV | kW  |\n",
    "| grid_to_ro          | Energy supplied to the RO coming from grid | kW |\n",
    "| curtailment   | PV curtailment                 | kWh |\n",
    "| elec_price                   | Electricity Price                                 | kWh  |\n",
    "| pv_gen                   | Energy in                                 | $/kWh  |\n",
    "\n",
    "### The steady state constraints:\n",
    "\n",
    "*pv_gen = pv_to_ro + elec_in + curtailment*\n",
    "\n",
    "*ROUnit.power_demand = pv_to_ro + battery.elec_out + grid_to_ro*"
   ]
  },
  {
   "cell_type": "markdown",
   "metadata": {},
   "source": [
    "#### Add Table Here"
   ]
  },
  {
   "cell_type": "code",
   "execution_count": 7,
   "metadata": {},
   "outputs": [
    {
     "name": "stdout",
     "output_type": "stream",
     "text": [
      "2023-10-06 14:35:42 [INFO] idaes.init.fs.battery: Battery initialization status optimal - Optimal Solution Found.\n"
     ]
    }
   ],
   "source": [
    "solver = get_solver()\n",
    "m.fs.battery.initialize()\n",
    "results = solver.solve(m)"
   ]
  },
  {
   "cell_type": "code",
   "execution_count": 8,
   "metadata": {},
   "outputs": [
    {
     "name": "stdout",
     "output_type": "stream",
     "text": [
      "fs.pv_to_ro                              194.4      kW\n",
      "fs.grid_to_ro                            374.8      kW\n",
      "fs.curtailment                           402.4      kW\n",
      "fs.elec_price                            0.1        USD_2021\n",
      "fs.elec_generation                       1,000.0    kW\n",
      "fs.pv_gen                                1,000.0    kW\n",
      "fs.ro_elec_req                           1,000.0    kW\n",
      "fs.electricity_price                     0.1        USD_2021\n",
      "fs.battery.nameplate_power               150,189.1  kW\n",
      "fs.battery.nameplate_energy              278,058.9  kWh\n",
      "fs.battery.initial_state_of_charge       121,922.4  kWh\n",
      "fs.battery.initial_energy_throughput     99,811.5   kWh\n",
      "fs.battery.elec_in[0.0]                  403.2      kWh\n",
      "fs.battery.elec_out[0.0]                 375.0      kWh\n",
      "fs.battery.state_of_charge[0.0]          121,910.7  kWh\n",
      "fs.battery.energy_throughput[0.0]        100,200.6  kWh\n"
     ]
    }
   ],
   "source": [
    "for v in m.fs.component_data_objects(ctype=Var, active=True, descend_into=True):\n",
    "        print(f'{str(v):<40s}', f'{value(v):<10,.1f}', pyunits.get_units(v))"
   ]
  },
  {
   "cell_type": "markdown",
   "metadata": {},
   "source": [
    "### Create a Pyomo concrete model and steady-state flowsheet"
   ]
  },
  {
   "cell_type": "markdown",
   "metadata": {},
   "source": [
    "## Refresh - approach to multiperiod flowsheets\n",
    "<p align=\"center\">\n",
    "  <img src=\"assets/MP_Framework_2.png\" height=\"380\">\n",
    "</p>"
   ]
  },
  {
   "cell_type": "code",
   "execution_count": 9,
   "metadata": {},
   "outputs": [],
   "source": [
    "def get_pv_ro_variable_pairs(t1, t2):\n",
    "    \"\"\"\n",
    "    This function returns pairs of variables that need to be connected across two time periods\n",
    "\n",
    "    Args:\n",
    "        t1: current time block\n",
    "        t2: next time block\n",
    "\n",
    "    Returns:\n",
    "        None\n",
    "    \"\"\"\n",
    "    return [\n",
    "        (t1.fs.battery.state_of_charge[0], t2.fs.battery.initial_state_of_charge),\n",
    "        (t1.fs.battery.energy_throughput[0], t2.fs.battery.initial_energy_throughput),\n",
    "        (t1.fs.battery.nameplate_power, t2.fs.battery.nameplate_power),\n",
    "        (t1.fs.battery.nameplate_energy, t2.fs.battery.nameplate_energy),\n",
    "        ]"
   ]
  },
  {
   "cell_type": "markdown",
   "metadata": {},
   "source": [
    "#### Build the steady-state flowsheet as a function"
   ]
  },
  {
   "cell_type": "code",
   "execution_count": 10,
   "metadata": {},
   "outputs": [],
   "source": [
    "def build_pv_battery_flowsheet(\n",
    "        m = None,\n",
    "        pv_gen = 1000,\n",
    "        electricity_price = 0.1,\n",
    "        pv_oversize = 1):\n",
    "    \"\"\"\n",
    "\n",
    "    Returns:\n",
    "        object: A Pyomo concrete optimization model and flowsheet\n",
    "    \"\"\"\n",
    "    \n",
    "    build_system()\n",
    "\n",
    "    return m"
   ]
  },
  {
   "cell_type": "code",
   "execution_count": 11,
   "metadata": {},
   "outputs": [
    {
     "ename": "NameError",
     "evalue": "name 'build_system' is not defined",
     "output_type": "error",
     "traceback": [
      "\u001b[0;31m---------------------------------------------------------------------------\u001b[0m",
      "\u001b[0;31mNameError\u001b[0m                                 Traceback (most recent call last)",
      "\u001b[0;32m/var/folders/f6/ln_247ms54b5y1mdczhdrr59rtfn88/T/ipykernel_79812/2453313828.py\u001b[0m in \u001b[0;36m<cell line: 3>\u001b[0;34m()\u001b[0m\n\u001b[1;32m      1\u001b[0m \u001b[0mm\u001b[0m \u001b[0;34m=\u001b[0m \u001b[0mConcreteModel\u001b[0m\u001b[0;34m(\u001b[0m\u001b[0;34m)\u001b[0m\u001b[0;34m\u001b[0m\u001b[0;34m\u001b[0m\u001b[0m\n\u001b[1;32m      2\u001b[0m \u001b[0mm\u001b[0m\u001b[0;34m.\u001b[0m\u001b[0mfs\u001b[0m \u001b[0;34m=\u001b[0m \u001b[0mFlowsheetBlock\u001b[0m\u001b[0;34m(\u001b[0m\u001b[0mdynamic\u001b[0m\u001b[0;34m=\u001b[0m\u001b[0;32mFalse\u001b[0m\u001b[0;34m)\u001b[0m\u001b[0;34m\u001b[0m\u001b[0;34m\u001b[0m\u001b[0m\n\u001b[0;32m----> 3\u001b[0;31m \u001b[0mbuild_pv_battery_flowsheet\u001b[0m\u001b[0;34m(\u001b[0m\u001b[0mm\u001b[0m\u001b[0;34m)\u001b[0m\u001b[0;34m\u001b[0m\u001b[0;34m\u001b[0m\u001b[0m\n\u001b[0m",
      "\u001b[0;32m/var/folders/f6/ln_247ms54b5y1mdczhdrr59rtfn88/T/ipykernel_79812/1332565446.py\u001b[0m in \u001b[0;36mbuild_pv_battery_flowsheet\u001b[0;34m(m, pv_gen, electricity_price, pv_oversize)\u001b[0m\n\u001b[1;32m     10\u001b[0m     \"\"\"\n\u001b[1;32m     11\u001b[0m \u001b[0;34m\u001b[0m\u001b[0m\n\u001b[0;32m---> 12\u001b[0;31m     \u001b[0mbuild_system\u001b[0m\u001b[0;34m(\u001b[0m\u001b[0;34m)\u001b[0m\u001b[0;34m\u001b[0m\u001b[0;34m\u001b[0m\u001b[0m\n\u001b[0m\u001b[1;32m     13\u001b[0m \u001b[0;34m\u001b[0m\u001b[0m\n\u001b[1;32m     14\u001b[0m     \u001b[0;32mreturn\u001b[0m \u001b[0mm\u001b[0m\u001b[0;34m\u001b[0m\u001b[0;34m\u001b[0m\u001b[0m\n",
      "\u001b[0;31mNameError\u001b[0m: name 'build_system' is not defined"
     ]
    }
   ],
   "source": [
    "m = ConcreteModel()\n",
    "m.fs = FlowsheetBlock(dynamic=False)\n",
    "build_pv_battery_flowsheet(m)"
   ]
  },
  {
   "cell_type": "code",
   "execution_count": null,
   "metadata": {},
   "outputs": [],
   "source": [
    "results = solver.solve(m)"
   ]
  },
  {
   "cell_type": "code",
   "execution_count": null,
   "metadata": {},
   "outputs": [],
   "source": [
    "for v in m.fs.component_data_objects(ctype=Var, active=True, descend_into=True):\n",
    "        print(f'{str(v):<40s}', f'{value(v):<10,.1f}', pyunits.get_units(v))"
   ]
  },
  {
   "cell_type": "markdown",
   "metadata": {},
   "source": [
    "#### Define the flowsheet options"
   ]
  },
  {
   "cell_type": "code",
   "execution_count": null,
   "metadata": {},
   "outputs": [],
   "source": [
    "def load_flowsheet_options(mp,\n",
    "        n_time_points= 24,\n",
    "        ro_capacity = 6000, # m3/day\n",
    "        ro_elec_req = 1000, # kW\n",
    "        pv_oversize = 1,\n",
    "        surrogate = None):\n",
    "    \n",
    "    flowsheet_options={ t: { \n",
    "                            \"pv_gen\": 1000,\n",
    "                            \"electricity_price\": 0.1,\n",
    "                            \"ro_capacity\": ro_capacity, \n",
    "                            \"ro_elec_req\": ro_elec_req,\n",
    "                            \"pv_oversize\": pv_oversize} \n",
    "                            for t in range(n_time_points)\n",
    "    }\n",
    "\n",
    "    # create the multiperiod object\n",
    "    mp.build_multi_period_model(\n",
    "        model_data_kwargs=flowsheet_options,\n",
    "        flowsheet_options={ \"ro_capacity\": ro_capacity, \n",
    "                            \"ro_elec_req\": ro_elec_req},)"
   ]
  },
  {
   "cell_type": "code",
   "execution_count": null,
   "metadata": {},
   "outputs": [],
   "source": [
    "def create_multiperiod_pv_battery_model(\n",
    "        n_time_points= 24,        \n",
    "    ):\n",
    "    \n",
    "    mp = MultiPeriodModel(\n",
    "        n_time_points=n_time_points,\n",
    "        process_model_func=load_flowsheet_options,\n",
    "        linking_variable_func=get_pv_ro_variable_pairs,\n",
    "        initialization_func=fix_dof_and_initialize,\n",
    "        unfix_dof_func=unfix_dof,\n",
    "    )\n",
    "\n",
    "    # surrogate = load_surrogate()\n",
    "    load_flowsheet_options(mp)\n",
    "    mp.blocks[0].process.fs.battery.initial_state_of_charge.fix(0)\n",
    "    add_pv_ro_constraints(mp)\n",
    "    \n",
    "    return mp"
   ]
  },
  {
   "cell_type": "code",
   "execution_count": null,
   "metadata": {},
   "outputs": [],
   "source": [
    "mp = create_multiperiod_pv_battery_model()\n",
    "results = solver.solve(mp)"
   ]
  },
  {
   "cell_type": "code",
   "execution_count": null,
   "metadata": {},
   "outputs": [],
   "source": [
    "labels = ['pv_size', 'battery_power', 'battery_energy', 'LCOW']\n",
    "for idx, v in enumerate([mp.blocks[0].process.fs.pv_size, mp.blocks[0].process.fs.battery.nameplate_power, mp.blocks[0].process.fs.battery.nameplate_energy, mp.LCOW]):\n",
    "    print(f'{labels[idx]:<20s}', f'{value(v):<10,.2f}')"
   ]
  },
  {
   "cell_type": "code",
   "execution_count": null,
   "metadata": {},
   "outputs": [],
   "source": [
    "from util.visualize import create_plot\n",
    "create_plot(mp, elec_prices)"
   ]
  }
 ],
 "metadata": {
  "kernelspec": {
   "display_name": "watertap-dev",
   "language": "python",
   "name": "python3"
  },
  "language_info": {
   "codemirror_mode": {
    "name": "ipython",
    "version": 3
   },
   "file_extension": ".py",
   "mimetype": "text/x-python",
   "name": "python",
   "nbconvert_exporter": "python",
   "pygments_lexer": "ipython3",
   "version": "3.8.13"
  },
  "orig_nbformat": 4
 },
 "nbformat": 4,
 "nbformat_minor": 2
}
