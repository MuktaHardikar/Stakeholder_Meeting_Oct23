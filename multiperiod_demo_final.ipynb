{
 "cells": [
  {
   "cell_type": "markdown",
   "metadata": {},
   "source": [
    "# ADVANCED PSE+ STAKEHOLDER SUMMIT I 2023: \n",
    "# Interactive Code Demonstration Using WaterTAP\n",
    "\n",
    "### Today's demonstration will show how to build, initialize, simulate, and optimize a flowsheet for multiperiod analysis."
   ]
  },
  {
   "cell_type": "markdown",
   "metadata": {},
   "source": [
    "# Overall approach to multiperiod flowsheets\n",
    "<p align=\"center\">\n",
    "  <img src=\"assets/MP_Framework.png\" width=\"800\">\n",
    "</p>"
   ]
  },
  {
   "cell_type": "markdown",
   "metadata": {},
   "source": [
    "## Part 1: Build, setup, and simulate the multiperiod RO+PV+Battery flowsheet"
   ]
  },
  {
   "cell_type": "markdown",
   "metadata": {},
   "source": [
    "\n",
    "<p align=\"center\">\n",
    "  <img src=\"assets/RO_PV_Batt.svg\" width=\"1000\">\n",
    "</p>"
   ]
  },
  {
   "cell_type": "markdown",
   "metadata": {},
   "source": [
    "## Multiperiod Setup\n",
    "\n",
    "### Quick and high-level overview of setting up steady-state and surrogate parts\n",
    "#### Import Pyomo, IDAES, and WaterTAP packages"
   ]
  },
  {
   "cell_type": "code",
   "execution_count": null,
   "metadata": {},
   "outputs": [],
   "source": [
    "# Pyomo imports\n",
    "from pyomo.environ import ConcreteModel, Objective, Var, value, units as pyunits\n",
    "\n",
    "# IDAES imports\n",
    "from idaes.core import FlowsheetBlock\n",
    "from idaes.apps.grid_integration.multiperiod.multiperiod import MultiPeriodModel\n",
    "from idaes.core.solvers.get_solver import get_solver\n"
   ]
  },
  {
   "cell_type": "markdown",
   "metadata": {},
   "source": [
    "#### Build Model"
   ]
  },
  {
   "cell_type": "code",
   "execution_count": null,
   "metadata": {},
   "outputs": [],
   "source": [
    "m = ConcreteModel()\n",
    "m.fs = FlowsheetBlock(dynamic=False)"
   ]
  },
  {
   "cell_type": "markdown",
   "metadata": {},
   "source": [
    "#### Import and define the Reverse Osmosis unit model"
   ]
  },
  {
   "cell_type": "code",
   "execution_count": null,
   "metadata": {},
   "outputs": [],
   "source": [
    "from steady_state_flowsheets.simple_RO_unit import ROUnit\n",
    "m.fs.RO = ROUnit()"
   ]
  },
  {
   "cell_type": "markdown",
   "metadata": {},
   "source": [
    "#### This simple RO unit will assume a steady-state system with constant production and power demand\n",
    "        ROUnit.product = 6000 # m3/day\n",
    "        ROUnit.power_demand = 1 # MW"
   ]
  },
  {
   "cell_type": "markdown",
   "metadata": {},
   "source": [
    "#### Import and define the Battery model"
   ]
  },
  {
   "cell_type": "code",
   "execution_count": null,
   "metadata": {},
   "outputs": [],
   "source": [
    "from steady_state_flowsheets.battery import BatteryStorage \n",
    "# From DISPATCHES \n",
    "m.fs.battery = BatteryStorage()"
   ]
  },
  {
   "cell_type": "markdown",
   "metadata": {},
   "source": [
    "<p align=\"center\">\n",
    "  <img src=\"assets/var_table.png\" width=\"580\">\n",
    "</p>"
   ]
  },
  {
   "cell_type": "markdown",
   "metadata": {},
   "source": [
    "#### Load PV surrogate"
   ]
  },
  {
   "cell_type": "code",
   "execution_count": null,
   "metadata": {},
   "outputs": [],
   "source": [
    "from idaes.core.surrogate.pysmo_surrogate import PysmoSurrogate\n",
    "PV_surrogate = PysmoSurrogate.load_from_file('assets/demo_surrogate.json')"
   ]
  },
  {
   "cell_type": "markdown",
   "metadata": {},
   "source": [
    "<p align=\"center\">\n",
    "  <img src=\"assets/solar_cycle.png\" width=\"380\">\n",
    "</p>\n",
    "\n",
    "##### The PV surrogate will predict the energy production of a given PV system based on:\n",
    "* PV system design size [kW] (peak power )\n",
    "* Day of the year\n",
    "* Hour of the Day"
   ]
  },
  {
   "cell_type": "markdown",
   "metadata": {},
   "source": [
    "### Define critical variables and add energy balance constraints in one time step/ steady-state conditions"
   ]
  },
  {
   "cell_type": "code",
   "execution_count": null,
   "metadata": {},
   "outputs": [],
   "source": [
    "from steady_state_flowsheets.system import *\n",
    "define_system_vars(m)\n",
    "add_steady_state_constraints(m)"
   ]
  },
  {
   "cell_type": "markdown",
   "metadata": {},
   "source": [
    "#### System-level variables include:\n",
    "| Var                       | Description                                    | Unit |\n",
    "| :----:                    | :----:                                    |:----:|\n",
    "| pv_to_ro           | Energy supplied to the RO coming from PV | kW  |\n",
    "| grid_to_ro          | Energy supplied to the RO coming from grid | kW |\n",
    "| curtailment   | PV curtailment                 | kW |\n",
    "| elec_price                   | Electricity Price                                 | $/kWh  |\n",
    "| pv_gen                   | Energy in                                 | kWh  |\n",
    "\n",
    "### The steady state constraints:\n",
    "\n",
    "<p align=\"center\">\n",
    "  <img src=\"assets/Balance.png\" width=\"700\">\n",
    "</p>\n",
    "<p align=\"center\">\n",
    "  <img src=\"assets/constraint.png\" width=\"700\">\n",
    "</p>"
   ]
  },
  {
   "cell_type": "code",
   "execution_count": null,
   "metadata": {},
   "outputs": [],
   "source": [
    "m.fs.battery.nameplate_energy.fix(8000) # Battery capacity [kWh]\n",
    "m.fs.battery.nameplate_power.fix(400) # Battery power [kW]\n",
    "m.fs.pv_gen.fix(700) # PV generation [kW]"
   ]
  },
  {
   "cell_type": "code",
   "execution_count": null,
   "metadata": {},
   "outputs": [],
   "source": [
    "solver = get_solver()\n",
    "\n",
    "m.fs.battery.initialize()\n",
    "results = solver.solve(m)"
   ]
  },
  {
   "cell_type": "code",
   "execution_count": null,
   "metadata": {},
   "outputs": [],
   "source": [
    "print_system_results(m)"
   ]
  },
  {
   "cell_type": "markdown",
   "metadata": {},
   "source": [
    "## Refresh - approach to multiperiod flowsheets\n",
    "<p align=\"center\">\n",
    "  <img src=\"assets/MP_Framework_2.png\" height=\"380\">\n",
    "</p>"
   ]
  },
  {
   "cell_type": "code",
   "execution_count": null,
   "metadata": {},
   "outputs": [],
   "source": [
    "def get_pv_ro_variable_pairs(t1, t2):\n",
    "    \"\"\"\n",
    "    This function returns pairs of variables that need to be connected across two time periods\n",
    "\n",
    "    Args:\n",
    "        t1: current time block\n",
    "        t2: next time block\n",
    "\n",
    "    Returns:\n",
    "        None\n",
    "    \"\"\"\n",
    "    return [\n",
    "        (t1.fs.battery.state_of_charge[0], t2.fs.battery.initial_state_of_charge),\n",
    "        (t1.fs.battery.energy_throughput[0], t2.fs.battery.initial_energy_throughput),\n",
    "        (t1.fs.battery.nameplate_power, t2.fs.battery.nameplate_power),\n",
    "        (t1.fs.battery.nameplate_energy, t2.fs.battery.nameplate_energy),\n",
    "        ]"
   ]
  },
  {
   "cell_type": "markdown",
   "metadata": {},
   "source": [
    "<p align=\"center\">\n",
    "  <img src=\"assets/linking.png\" width=\"520\">\n",
    "</p>"
   ]
  },
  {
   "cell_type": "markdown",
   "metadata": {},
   "source": [
    "#### Define the flowsheet options"
   ]
  },
  {
   "cell_type": "code",
   "execution_count": null,
   "metadata": {},
   "outputs": [],
   "source": [
    "def create_multiperiod_pv_battery_model(\n",
    "        n_time_points= 24,\n",
    "        ro_capacity = 6000, # m3/day\n",
    "        ro_elec_req = 1000, # kW\n",
    "        pv_oversize = 1,\n",
    "        surrogate = None):\n",
    "    \n",
    "    # create the multiperiod object\n",
    "    '''The `MultiPeriodModel` class helps transfer existing steady-state\n",
    "    process models to multiperiod versions that contain dynamic time coupling'''\n",
    "    mp = MultiPeriodModel(\n",
    "        n_time_points=n_time_points,\n",
    "        process_model_func= steady_state_flowsheet,\n",
    "        linking_variable_func= get_pv_ro_variable_pairs,\n",
    "        initialization_func= m.fs.battery.initialize(),\n",
    "        unfix_dof_func= unfix_dof,\n",
    "    )\n",
    "\n",
    "    # process_model_func - This is our steady-state or single time instance flowsheet\n",
    "    # unfix_dof - This is where we fix or unfix battery size, power, etc...\n",
    "    # initialize_system - This is where we initialize the battery\n",
    "    \n",
    "    # Flowsheet options is where we define the input options for the steady-state flowsheet\n",
    "    flowsheet_options={ t: { \n",
    "                            \"pv_gen\": eval_surrogate(surrogate, design_size = 1000, Day = 1, Hour = t%24),\n",
    "                            \"electricity_price\": get_elec_tier(Hour = t%24),\n",
    "                            \"ro_capacity\": ro_capacity, \n",
    "                            \"ro_elec_req\": ro_elec_req,\n",
    "                            \"pv_oversize\": pv_oversize} \n",
    "                            for t in range(n_time_points)\n",
    "    }\n",
    "\n",
    "    # Build a multi-period capable model using user-provided functions\n",
    "    mp.build_multi_period_model(\n",
    "        model_data_kwargs=flowsheet_options)\n",
    "    \n",
    "    # Fix the initial state of charge to zero\n",
    "    mp.blocks[0].process.fs.battery.initial_state_of_charge.fix(0)\n",
    "\n",
    "    # Set capital costs and the objective function that apply across all time periods\n",
    "    add_pv_ro_constraints(mp)\n",
    "\n",
    "    # Total Costs = Battery Costs + PV Costs + RO Costs\n",
    "    # LCOW = Total Costs / RO Production [$/m3]\n",
    "\n",
    "    return mp"
   ]
  },
  {
   "cell_type": "markdown",
   "metadata": {},
   "source": [
    "<p align=\"center\">\n",
    "  <img src=\"assets/Multiperiod.png\" width=\"900\">\n",
    "</p>"
   ]
  },
  {
   "cell_type": "markdown",
   "metadata": {},
   "source": [
    "# Simulation"
   ]
  },
  {
   "cell_type": "code",
   "execution_count": null,
   "metadata": {},
   "outputs": [],
   "source": [
    "mp = create_multiperiod_pv_battery_model(surrogate=PV_surrogate)"
   ]
  },
  {
   "cell_type": "code",
   "execution_count": null,
   "metadata": {},
   "outputs": [],
   "source": [
    "results = solver.solve(mp)\n",
    "print_results(mp)"
   ]
  },
  {
   "cell_type": "code",
   "execution_count": null,
   "metadata": {},
   "outputs": [],
   "source": [
    "print([value(mp.blocks[i].process.fs.battery.state_of_charge[0]) for i in range(24)])"
   ]
  },
  {
   "cell_type": "code",
   "execution_count": null,
   "metadata": {},
   "outputs": [],
   "source": [
    "from util.visualize import create_plot\n",
    "create_plot(mp)"
   ]
  },
  {
   "cell_type": "markdown",
   "metadata": {},
   "source": [
    "## Now let's optimize the battery\n",
    "\n",
    "#### Unfix \n",
    "* Battery Nameplate Power\n",
    "* Battery Nameplate Energy"
   ]
  },
  {
   "cell_type": "code",
   "execution_count": null,
   "metadata": {},
   "outputs": [],
   "source": [
    "mp_optimized = optimize_multiperiod_pv_battery_model(surrogate=PV_surrogate)\n",
    "results = solver.solve(mp_optimized)\n",
    "print_results(mp_optimized)\n",
    "create_plot(mp_optimized)"
   ]
  }
 ],
 "metadata": {
  "kernelspec": {
   "display_name": "watertap-dev",
   "language": "python",
   "name": "python3"
  },
  "language_info": {
   "codemirror_mode": {
    "name": "ipython",
    "version": 3
   },
   "file_extension": ".py",
   "mimetype": "text/x-python",
   "name": "python",
   "nbconvert_exporter": "python",
   "pygments_lexer": "ipython3",
   "version": "3.8.13"
  },
  "orig_nbformat": 4
 },
 "nbformat": 4,
 "nbformat_minor": 2
}
